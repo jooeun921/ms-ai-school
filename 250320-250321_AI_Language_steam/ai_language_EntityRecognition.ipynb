{
 "cells": [
  {
   "cell_type": "markdown",
   "metadata": {},
   "source": [
    "### AI Language Studio를 활용하여, NER(Named Entity Recognition)하기\n",
    "NER(Named Entity Recognition)를 사용하여 텍스트에서 엔터티를 식별하고 이를 사람, 위치, 이벤트, 제품 및 조직과 같은 사전 정의된 클래스 또는 유형으로 분류하는 기능"
   ]
  },
  {
   "cell_type": "code",
   "execution_count": null,
   "metadata": {},
   "outputs": [],
   "source": [
    "import requests # type: ignore\n",
    "import uuid\n",
    "import gradio as gr # type: ignore\n",
    "import os\n",
    "from dotenv import load_dotenv # type: ignore\n",
    "\n",
    "load_dotenv()\n",
    "LANGUAGE_ENDPINT = os.getenv(\"LANGUAGE_ENDPINT\")\n",
    "LANGUAGE_APIKEY = os.getenv(\"LANGUAGE_APIKEY\")"
   ]
  },
  {
   "cell_type": "markdown",
   "metadata": {},
   "source": [
    "#### 1. Named Entity Recognition\n",
    "이름 요소들 분리해서 가져오기"
   ]
  },
  {
   "cell_type": "code",
   "execution_count": null,
   "metadata": {},
   "outputs": [],
   "source": [
    "# Named Entity Recognition\n",
    "def request_ner(text=\"\", language=\"ko\"):\n",
    "    endpoint = LANGUAGE_ENDPINT\n",
    "\n",
    "    header = {\n",
    "        \"Content-Type\":\"application/json\",\n",
    "        \"Ocp-Apim-Subscription-Key\":LANGUAGE_APIKEY\n",
    "    }\n",
    "\n",
    "    request_id = str(uuid.uuid4())\n",
    "\n",
    "    body = {\n",
    "    \"kind\": \"EntityRecognition\",\n",
    "    \"parameters\": {\n",
    "        \"modelVersion\": \"latest\"\n",
    "    },\n",
    "    \"analysisInput\":{\n",
    "        \"documents\":[\n",
    "            {\n",
    "                \"id\":request_id,\n",
    "                \"language\": language,\n",
    "                \"text\": text\n",
    "            }\n",
    "        ]\n",
    "        }   \n",
    "    }\n",
    "\n",
    "    response = requests.post(endpoint, headers=header, json=body)\n",
    "    if response.status_code == 200:\n",
    "        response_json = response.json()\n",
    "        return response_json\n",
    "    else:\n",
    "        return None\n",
    "\n",
    "# request_ner(\"\"\"Canada’s draft deal to participate in Europe’s defense industry will bring contracts to Canadian manufacturers and help lessen dependence on the United States.\"\"\", language=\"en\")"
   ]
  },
  {
   "cell_type": "markdown",
   "metadata": {},
   "source": [
    "#### 2. PiiEntityRecognition\n",
    "NER(명명된 엔터티 인식)을 사용하여 텍스트에서 민감한 개인 식별 정보(PII)를 식별하고 이를 사람, 주소, 이메일, 전화번호, 여권 번호, 은행 계좌 번호 등과 같은 사전 정의된 클래스 또는 유형으로 분류.\n",
    "민감한 정보는 * 표기로 지움."
   ]
  },
  {
   "cell_type": "code",
   "execution_count": null,
   "metadata": {},
   "outputs": [],
   "source": [
    "def request_pii(text=\"\", model_type=\"EntityRecognition\", language=\"ko\"):\n",
    "    endpoint = LANGUAGE_ENDPINT\n",
    "\n",
    "    header = {\n",
    "        \"Content-Type\":\"application/json\",\n",
    "        \"Ocp-Apim-Subscription-Key\":LANGUAGE_APIKEY\n",
    "    }\n",
    "\n",
    "    request_id = str(uuid.uuid4())\n",
    "\n",
    "    body = {\n",
    "    \"kind\": model_type,\n",
    "    \"parameters\": {\n",
    "        \"modelVersion\": \"latest\"\n",
    "    },\n",
    "    \"analysisInput\":{\n",
    "        \"documents\":[\n",
    "            {\n",
    "                \"id\":request_id,\n",
    "                \"language\": language,\n",
    "                \"text\": text\n",
    "            }\n",
    "        ]\n",
    "        }   \n",
    "    }\n",
    "\n",
    "    response = requests.post(endpoint, headers=header, json=body)\n",
    "    if response.status_code == 200:\n",
    "        response_json = response.json()\n",
    "        return response_json\n",
    "    else:\n",
    "        return None\n",
    "\n",
    "# request_pii(\"\"\"[파이낸셜뉴스] 이재명 더불어민주당 대표가 20일 이재용 삼성전자 회장과 만나 지금까지 해온 것처럼 삼성이 경제성장 견인차 역할을 잘 해 달라고 당부했다. 양측은 이날 '청년취업 지원' 등 경제 현안에 대한 논의도 이어갈 예정이다. 이재명 대표는 이날 오전 10시 서울 강남구 삼성 청년 소프트웨어 아카데미(SSAFY)를 방문, 청년 취업 지원을 위한 현장 간담회에 참석했다.\"\"\", model_type=\"PiiEntityRecognition\", language=\"en\")"
   ]
  },
  {
   "cell_type": "markdown",
   "metadata": {},
   "source": [
    "#### 3. Extract key phrases\n",
    "Key Phrase Extraction API는 구조화되지 않은 텍스트를 평가하고, 각 JSON 문서에 대해 Key Phrase 목록을 반환합니다. 이 기능은 텍스트에서 주요 요점을 빠르게 식별해야 하는 경우에 유용"
   ]
  },
  {
   "cell_type": "code",
   "execution_count": null,
   "metadata": {},
   "outputs": [],
   "source": [
    "def request_Extract_key_phrases(text=\"\", model_type=\"EntityRecognition\", language=\"en\"):\n",
    "    endpoint = LANGUAGE_ENDPINT\n",
    "\n",
    "    header = {\n",
    "        \"Content-Type\":\"application/json\",\n",
    "        \"Ocp-Apim-Subscription-Key\":LANGUAGE_APIKEY\n",
    "    }\n",
    "\n",
    "    request_id = str(uuid.uuid4())\n",
    "\n",
    "    body = {\n",
    "    \"kind\": model_type,\n",
    "    \"parameters\": {\n",
    "        \"modelVersion\": \"latest\"\n",
    "    },\n",
    "    \"analysisInput\":{\n",
    "        \"documents\":[\n",
    "            {\n",
    "                \"id\":request_id,\n",
    "                \"language\": language,\n",
    "                \"text\": text\n",
    "            }\n",
    "        ]\n",
    "        }   \n",
    "    }\n",
    "\n",
    "    response = requests.post(endpoint, headers=header, json=body)\n",
    "    if response.status_code == 200:\n",
    "        response_json = response.json()\n",
    "        return response_json\n",
    "    else:\n",
    "        return None\n",
    "\n",
    "# request_Extract_key_phrases(\"\"\"Donald Trump and Volodymyr Zelenskyy had a “very good telephone call” on Wednesday, according to Trump, in the first conversation between the US president and his Ukrainian counterpart since their disastrous showdown in the White House three weeks ago. Zelenskyy described the call as “positive, very substantive and frank”, and said he had signed up to a partial ceasefire that Trump agreed with Vladimir Putin a day earlier. The White House said Trump had promised to help with a Ukrainian request to source more air defence batteries for Kyiv. The last encounter between Trump and Zelenskyy ended in an angry exchange of words between the two presidents and the US vice-president, JD Vance. It marked a low point in US-Ukrainian relations and spooked other allies that Washington may be about to abandon Kyiv.\"\"\", model_type=\"KeyPhraseExtraction\", language=\"en\")"
   ]
  },
  {
   "cell_type": "markdown",
   "metadata": {},
   "source": [
    "#### 4. EntityLinking / Find linked entities\n",
    "이 사전 구축된 기능은 지식 기반에 연결하여 텍스트에서 발견된 엔터티의 신원을 모호하게 합니다. Text Analytics의 엔터티 연결 기능은 지식 기반으로 Wikipedia에 대한 링크를 제공 -> 입력한 데이터에 대해서 위키피디아 검색 결과 링크를 보내줌."
   ]
  },
  {
   "cell_type": "code",
   "execution_count": null,
   "metadata": {},
   "outputs": [],
   "source": [
    "def request_EntityLinking(text=\"\", model_type=\"EntityRecognition\", language=\"en\"):\n",
    "    endpoint = LANGUAGE_ENDPINT\n",
    "\n",
    "    header = {\n",
    "        \"Content-Type\":\"application/json\",\n",
    "        \"Ocp-Apim-Subscription-Key\":LANGUAGE_APIKEY\n",
    "    }\n",
    "\n",
    "    request_id = str(uuid.uuid4())\n",
    "\n",
    "    body = {\n",
    "    \"kind\": model_type,\n",
    "    \"parameters\": {\n",
    "        \"modelVersion\": \"latest\"\n",
    "    },\n",
    "    \"analysisInput\":{\n",
    "        \"documents\":[\n",
    "            {\n",
    "                \"id\":request_id,\n",
    "                \"language\": language,\n",
    "                \"text\": text\n",
    "            }\n",
    "        ]\n",
    "        }   \n",
    "    }\n",
    "\n",
    "    response = requests.post(endpoint, headers=header, json=body)\n",
    "    if response.status_code == 200:\n",
    "        response_json = response.json()\n",
    "        return response_json\n",
    "    else:\n",
    "        return None\n",
    "\n",
    "# request_EntityLinking(\"\"\"Donald Trump and Volodymyr Zelenskyy had a “very good telephone call” on Wednesday, according to Trump, in the first conversation between the US president and his Ukrainian counterpart since their disastrous showdown in the White House three weeks ago. Zelenskyy described the call as “positive, very substantive and frank”, and said he had signed up to a partial ceasefire that Trump agreed with Vladimir Putin a day earlier. The White House said Trump had promised to help with a Ukrainian request to source more air defence batteries for Kyiv. The last encounter between Trump and Zelenskyy ended in an angry exchange of words between the two presidents and the US vice-president, JD Vance. It marked a low point in US-Ukrainian relations and spooked other allies that Washington may be about to abandon Kyiv.\"\"\", model_type=\"EntityLinking\", language=\"en\")"
   ]
  },
  {
   "cell_type": "markdown",
   "metadata": {},
   "source": [
    "#### 5. LanguageDetection\n",
    "주어진 문장에서 어떤 언어가 가장 많이 쓰였는지, 그래서 결과적으로 이 내용은 어떤 언어로 이루어져 있는지 확인."
   ]
  },
  {
   "cell_type": "code",
   "execution_count": null,
   "metadata": {},
   "outputs": [],
   "source": [
    "def request_language_detection(text=\"\"):\n",
    "    endpoint = LANGUAGE_ENDPINT\n",
    "\n",
    "    header = {\n",
    "        \"Content-Type\":\"application/json\",\n",
    "        \"Ocp-Apim-Subscription-Key\":LANGUAGE_APIKEY\n",
    "    }\n",
    "\n",
    "    request_id = str(uuid.uuid4())\n",
    "\n",
    "    body = {\n",
    "    \"kind\": \"LanguageDetection\",\n",
    "    \"parameters\": {\n",
    "        \"modelVersion\": \"latest\"\n",
    "    },\n",
    "    \"analysisInput\":{\n",
    "        \"documents\":[\n",
    "            {\n",
    "                \"id\":request_id,\n",
    "                \"text\": text\n",
    "            }\n",
    "        ]\n",
    "        }   \n",
    "    }\n",
    "\n",
    "    response = requests.post(endpoint, headers=header, json=body)\n",
    "    if response.status_code == 200:\n",
    "        response_json = response.json()\n",
    "        language_code = response_json[\"results\"][\"documents\"][0][\"detectedLanguage\"]['iso6391Name']\n",
    "        return language_code\n",
    "    else:\n",
    "        return \"ko\"\n",
    "\n",
    "# request_language_detection(\"Donald Trump and Volodymyr Zelenskyy had a “very good telephone call” on Wednesday, according to Trump, in the first conversation between the US president and his Ukrainian counterpart since their disastrous showdown in the White House three weeks ago. Zelenskyy described the call as “positive, very substantive and frank”, and said he had signed up to a partial ceasefire that Trump agreed with Vladimir Putin a day earlier. The White House said Trump had promised to help with a Ukrainian request to source more air defence batteries for Kyiv. The last encounter between Trump and Zelenskyy ended in an angry exchange of words between the two presidents and the US vice-president, JD Vance. It marked a low point in US-Ukrainian relations and spooked other allies that Washington may be about to abandon Kyiv. 기록을 갈아치울 태세다. 그는 통산 164홈런을 기록, 1위 타이론 우즈를 10개 차이로 뒤쫓고 있다. 시즌 초반 우즈의 기록을 넘을 수 있을 것으로 기대된다. 통산 타점도 521개로 이 부문 1위 제이 데이비스와 70개의 격차를 보이고 있으나, 경신이 유력하다.지난 시즌까지 통산 938승을 기록 중인 김경문 감독은 1천승 달성을 앞두고 있다. 43년 역사의 KBO 리그에서 1천승은 김응용, 김성근 감독 단 2명 만이 달성한 바 있다.\")"
   ]
  },
  {
   "cell_type": "markdown",
   "metadata": {},
   "source": [
    "#### 6. CLU\n",
    "이 문장이 어떤 문장인지. 대화인지 요청인지, 등등 의미. email 데이터를 직접 학습시켜서 생성한 모델"
   ]
  },
  {
   "cell_type": "code",
   "execution_count": null,
   "metadata": {},
   "outputs": [],
   "source": [
    "APIM_REQUEST_ID = os.getenv(\"APIM_REQUEST_ID\")\n",
    "\n",
    "def request_CLU(text=\"\"):\n",
    "    endpoint = LANGUAGE_ENDPINT\n",
    "\n",
    "    header = {\n",
    "        \"Content-Type\":\"application/json\",\n",
    "        \"Ocp-Apim-Subscription-Key\":LANGUAGE_APIKEY,\n",
    "        \"Apim-Request-Id\":APIM_REQUEST_ID\n",
    "    }\n",
    "\n",
    "    request_id = str(uuid.uuid4())\n",
    "\n",
    "    body = {\n",
    "        \"kind\": \"Conversation\",\n",
    "        \"analysisInput\": {\n",
    "            \"conversationItem\": {\n",
    "            \"id\": \"12345\",\n",
    "            \"text\": text,\n",
    "            \"modality\": \"text\",\n",
    "            \"language\": \"en\",\n",
    "            \"participantId\": \"user123\"\n",
    "            }\n",
    "        },\n",
    "        \"parameters\": {\n",
    "            \"projectName\": \"CLU_Email_project\",\n",
    "            \"verbose\": True,\n",
    "            \"deploymentName\": \"email-v1\",\n",
    "            \"stringIndexType\": \"TextElement_V8\"\n",
    "        }\n",
    "    }\n",
    "\n",
    "    response = requests.post(endpoint, headers=header, json=body)\n",
    "    if response.status_code == 200:\n",
    "        response_json = response.json()\n",
    "        top_intent = response_json[\"result\"][\"prediction\"][\"topIntent\"]\n",
    "        intent_list = response_json[\"result\"][\"prediction\"][\"intents\"]\n",
    "        entity_list = response_json[\"result\"][\"prediction\"][\"entities\"]\n",
    "        return (top_intent, intent_list, entity_list)\n",
    "    else:\n",
    "        return \"\"\n",
    "\n",
    "# request_CLI(\"Hello, how can I help you today? Send my email to jane\")"
   ]
  },
  {
   "cell_type": "markdown",
   "metadata": {},
   "source": [
    "#### 7. Custom Named Entity Recognition\n",
    "이것도 데이터로 모델 학습시켜서 대출 관련 문서를 활용한 엔티티 인식하기.\n",
    "아니 이거 202뜸;; -> get 요청으로 넘겨서 했어야 했음."
   ]
  },
  {
   "cell_type": "code",
   "execution_count": null,
   "metadata": {},
   "outputs": [
    {
     "name": "stdout",
     "output_type": "stream",
     "text": [
      "[{'text': 'eight hundred eighty-six thousand seven hundred fifty-seven Dollars', 'category': 'LoanAmountWords', 'offset': 47, 'length': 67, 'confidenceScore': 1.0}, {'text': '$886,757.00', 'category': 'LoanAmountNumbers', 'offset': 116, 'length': 11, 'confidenceScore': 1.0}]\n"
     ]
    }
   ],
   "source": [
    "import time\n",
    "\n",
    "CNER_ENPOINT = os.getenv(\"CNER_ENPOINT\")\n",
    "\n",
    "def Custom_Named_Entity_Recognition(text):\n",
    "    # API 엔드포인트\n",
    "    url = CNER_ENPOINT\n",
    "\n",
    "    # 요청 헤더\n",
    "    headers = {\n",
    "        \"Ocp-Apim-Subscription-Key\": LANGUAGE_APIKEY,\n",
    "        \"Content-Type\": \"application/json\"\n",
    "    }\n",
    "\n",
    "    request_id = str(uuid.uuid4())\n",
    "    # 요청 데이터\n",
    "    body = {\n",
    "        \"tasks\": [\n",
    "            {\n",
    "                \"kind\": \"CustomEntityRecognition\",\n",
    "                \"parameters\": {\n",
    "                    \"projectName\": \"loanDemo\",\n",
    "                    \"deploymentName\": \"loanDeployment\",\n",
    "                    \"stringIndexType\": \"TextElement_v8\"\n",
    "                }\n",
    "            }\n",
    "        ],\n",
    "        \"displayName\": \"CustomTextPortal_CustomEntityRecognition\",\n",
    "        \"analysisInput\": {\n",
    "            \"documents\": [\n",
    "                {\n",
    "                    \"id\": request_id,\n",
    "                    \"text\": text,\n",
    "                    \"language\": \"en\"\n",
    "                }\n",
    "            ]\n",
    "        }\n",
    "    }\n",
    "\n",
    "    # POST 요청 보내기\n",
    "    response = requests.post(url, headers=headers, json=body)\n",
    "\n",
    "    if response.status_code == 202:\n",
    "            # response.headers['Operation-Location'] 위치에 결과로 나온 enpoint url이 나옴.\n",
    "            result_url = response.headers['Operation-Location']\n",
    "            # print(result_url)\n",
    "\n",
    "            if not result_url:\n",
    "                print(\"Error: Operation-Location not found in response headers\")\n",
    "                return None\n",
    "\n",
    "            # 상태 확인 및 결과 가져오기\n",
    "            while True:\n",
    "                result_response = requests.get(result_url, headers=headers)\n",
    "                result_data = result_response.json()\n",
    "                result_status = result_data.get(\"status\", \"\")\n",
    "\n",
    "                if result_status == \"succeeded\":\n",
    "                    break\n",
    "                elif result_status in [\"failed\", \"canceled\"]:\n",
    "                    print(f\"Processing failed: {result_data}\")\n",
    "                    return None\n",
    "                time.sleep(2)  # 2초 대기 후 다시 요청\n",
    "\n",
    "            # 최종 결과 출력\n",
    "            try:\n",
    "                entity_list = result_data[\"tasks\"][\"items\"][0][\"results\"][\"documents\"][0][\"entities\"]\n",
    "                return entity_list\n",
    "            except KeyError:\n",
    "                print(\"Error: Unexpected response format\")\n",
    "                return None\n",
    "\n",
    "# 응답 출력\n",
    "# print(response.status_code)\n",
    "entities = Custom_Named_Entity_Recognition(\"The loan amount given by lender to borrower is eight hundred eighty-six thousand seven hundred fifty-seven Dollars ($886,757.00)\")\n",
    "print(entities)\n"
   ]
  },
  {
   "cell_type": "markdown",
   "metadata": {},
   "source": [
    "#### 8. Gradio로 화면 구성하기 - 라디오 활용"
   ]
  },
  {
   "cell_type": "code",
   "execution_count": null,
   "metadata": {},
   "outputs": [
    {
     "name": "stdout",
     "output_type": "stream",
     "text": [
      "* Running on local URL:  http://127.0.0.1:7862\n",
      "\n",
      "To create a public link, set `share=True` in `launch()`.\n"
     ]
    },
    {
     "data": {
      "text/html": [
       "<div><iframe src=\"http://127.0.0.1:7862/\" width=\"100%\" height=\"500\" allow=\"autoplay; camera; microphone; clipboard-read; clipboard-write;\" frameborder=\"0\" allowfullscreen></iframe></div>"
      ],
      "text/plain": [
       "<IPython.core.display.HTML object>"
      ]
     },
     "metadata": {},
     "output_type": "display_data"
    },
    {
     "data": {
      "text/plain": []
     },
     "execution_count": 19,
     "metadata": {},
     "output_type": "execute_result"
    },
    {
     "name": "stdout",
     "output_type": "stream",
     "text": [
      "LanuageDetection Canada’s draft deal to participate in Europe’s defense industry will bring contracts to Canadian manufacturers and help lessen dependence on the United States.\n",
      "NER Canada’s draft deal to participate in Europe’s defense industry will bring contracts to Canadian manufacturers and help lessen dependence on the United States.\n",
      "PII Canada’s draft deal to participate in Europe’s defense industry will bring contracts to Canadian manufacturers and help lessen dependence on the United States.\n"
     ]
    }
   ],
   "source": [
    "def change_radio(radio_type):\n",
    "    return radio_type\n",
    "\n",
    "def click_send(radio_type, text):\n",
    "    print(radio_type, text)\n",
    "\n",
    "    if radio_type == \"LanuageDetection\":\n",
    "        result_response = request_language_detection(text)\n",
    "    elif radio_type == \"NER\":\n",
    "        result_response = request_ner(text)\n",
    "    elif radio_type == \"PII\":\n",
    "        result_response = request_pii(text)\n",
    "    else:\n",
    "        result_response = \"\"\n",
    "    return result_response\n",
    "        \n",
    "\n",
    "with gr.Blocks() as demo:\n",
    "    type_choice_list = [\"LanuageDetection\", \"NER\", \"PII\"]\n",
    "    \n",
    "    type_radio = gr.Radio(label=\"타입선택\", choices=type_choice_list, value=\"LanuageDetection\")\n",
    "    input_textbox = gr.Textbox(label=\"입력 데이터\", lines=10)\n",
    "    send_button = gr.Button(\"전송\")\n",
    "    output_textbox = gr.Textbox(label=\"결과 출력\", lines=10)\n",
    "\n",
    "    type_radio.change(change_radio, inputs=[type_radio], outputs=[type_radio])\n",
    "    send_button.click(click_send, inputs=[type_radio, input_textbox], outputs=[output_textbox])\n",
    "\n",
    "demo.launch()"
   ]
  }
 ],
 "metadata": {
  "kernelspec": {
   "display_name": ".venv",
   "language": "python",
   "name": "python3"
  },
  "language_info": {
   "codemirror_mode": {
    "name": "ipython",
    "version": 3
   },
   "file_extension": ".py",
   "mimetype": "text/x-python",
   "name": "python",
   "nbconvert_exporter": "python",
   "pygments_lexer": "ipython3",
   "version": "3.12.9"
  }
 },
 "nbformat": 4,
 "nbformat_minor": 2
}
