{
 "cells": [
  {
   "cell_type": "code",
   "execution_count": 4,
   "metadata": {},
   "outputs": [
    {
     "name": "stdout",
     "output_type": "stream",
     "text": [
      "* Running on local URL:  http://127.0.0.1:8080\n",
      "\n",
      "To create a public link, set `share=True` in `launch()`.\n"
     ]
    },
    {
     "data": {
      "text/html": [
       "<div><iframe src=\"http://127.0.0.1:8080/\" width=\"100%\" height=\"500\" allow=\"autoplay; camera; microphone; clipboard-read; clipboard-write;\" frameborder=\"0\" allowfullscreen></iframe></div>"
      ],
      "text/plain": [
       "<IPython.core.display.HTML object>"
      ]
     },
     "metadata": {},
     "output_type": "display_data"
    },
    {
     "data": {
      "text/plain": []
     },
     "execution_count": 4,
     "metadata": {},
     "output_type": "execute_result"
    }
   ],
   "source": [
    "import cv2\n",
    "import gradio as gr\n",
    "from PIL import Image\n",
    "\n",
    "def detect_face(origin_image):\n",
    "    # 첫번째, 이미지를 RGB -> BGR로 변환\n",
    "    # Origin Image를 numpy로 변환해야 한다.\n",
    "    image = cv2.cvtColor(origin_image, cv2.COLOR_RGB2BGR)\n",
    "\n",
    "    return image\n",
    "\n",
    "with gr.Blocks() as demo:\n",
    "    def stream_webcam(image):\n",
    "        detected_image = detect_face(image)\n",
    "        return detected_image\n",
    "    \n",
    "    webcam_input = gr.Image(label=\"카메라\", sources=\"webcam\", streaming=True, width=480, height=270, mirror_webcam=False)\n",
    "    output_image = gr.Image(label=\"검출 화면\", streaming=True)\n",
    "\n",
    "    webcam_input.stream(stream_webcam, inputs=[webcam_input], outputs=[output_image])\n",
    "\n",
    "demo.launch(server_port=8080)\n",
    "# detect_face(\"250327_Open_CV/test1.jpg\")"
   ]
  },
  {
   "cell_type": "code",
   "execution_count": null,
   "metadata": {},
   "outputs": [
    {
     "name": "stdout",
     "output_type": "stream",
     "text": [
      "* Running on local URL:  http://127.0.0.1:8082\n",
      "\n",
      "To create a public link, set `share=True` in `launch()`.\n"
     ]
    },
    {
     "data": {
      "text/html": [
       "<div><iframe src=\"http://127.0.0.1:8082/\" width=\"100%\" height=\"500\" allow=\"autoplay; camera; microphone; clipboard-read; clipboard-write;\" frameborder=\"0\" allowfullscreen></iframe></div>"
      ],
      "text/plain": [
       "<IPython.core.display.HTML object>"
      ]
     },
     "metadata": {},
     "output_type": "display_data"
    },
    {
     "data": {
      "text/plain": []
     },
     "execution_count": 7,
     "metadata": {},
     "output_type": "execute_result"
    }
   ],
   "source": [
    "import cv2\n",
    "import gradio as gr\n",
    "from PIL import Image\n",
    "\n",
    "\n",
    "cascade = \"{}haarcascade_frontalface_default.xml\".format(cv2.data.haarcascades)\n",
    "face_cascade = cv2.CascadeClassifier(cascade)\n",
    "\n",
    "def detect_face(origin_image):\n",
    "    # 첫번째, 이미지를 RGB -> BGR로 변환\n",
    "    # Origin Image를 numpy로 변환해야 한다.\n",
    "    image = cv2.cvtColor(origin_image, cv2.COLOR_RGB2BGR)\n",
    "    face_list = face_cascade.detectMultiScale(image=image, scaleFactor=1.1, minNeighbors=5, minSize=(30, 30))\n",
    "    \n",
    "    for face in face_list:\n",
    "        x, y, w, h = face\n",
    "        cv2.rectangle(image, (x, y), (x+w, y+h), (0, 255, 0), thickness=2)\n",
    "\n",
    "    image = cv2.cvtColor(image, cv2.COLOR_BGR2RGB)\n",
    "\n",
    "    return image\n",
    "\n",
    "def stream_webcam(image):\n",
    "    detected_image = detect_face(image)\n",
    "    return detected_image\n",
    "\n",
    "haarcascade_files = [\n",
    "    \"haarcascade_frontalface_default.xml\",\n",
    "    \"haarcascade_eye.xml\",\n",
    "    \"haarcascade_eye_tree_eyeglasses.xml\",\n",
    "    \"haarcascade_frontalcatface.xml\",\n",
    "    \"haarcascade_frontalcatface_extended.xml\",\n",
    "    \"haarcascade_frontalface_alt.xml\",\n",
    "    \"haarcascade_frontalface_alt2.xml\",\n",
    "    \"haarcascade_frontalface_alt_tree.xml\",\n",
    "    \"haarcascade_fullbody.xml\",\n",
    "    \"haarcascade_lefteye_2splits.xml\",\n",
    "    \"haarcascade_license_plate_rus_16stages.xml\",\n",
    "    \"haarcascade_lowerbody.xml\",\n",
    "    \"haarcascade_profileface.xml\",\n",
    "    \"haarcascade_righteye_2splits.xml\",\n",
    "    \"haarcascade_russian_plate_number.xml\",\n",
    "    \"haarcascade_smile.xml\",\n",
    "    \"haarcascade_upperbody.xml\"\n",
    "]\n",
    "\n",
    "def change_haar(haar):\n",
    "    global face_cascade\n",
    "\n",
    "    face_cascade = cv2.CascadeClassifier(\"{}{}\".format(cv2.data.haarcascades, haar))\n",
    "    print(haar)\n",
    "    \"\"\n",
    "\n",
    "with gr.Blocks() as demo:\n",
    "\n",
    "    haar_dropdown = gr.Dropdown(label=\"Haar Cascade 선택\", choices=haarcascade_files, value=haarcascade_files[0])\n",
    "    webcam_input = gr.Image(label=\"카메라\", sources=\"webcam\", streaming=True, width=480, height=270, mirror_webcam=False)\n",
    "    output_image = gr.Image(label=\"검출 화면\", streaming=True)\n",
    "\n",
    "    webcam_input.stream(stream_webcam, inputs=[webcam_input], outputs=[output_image])\n",
    "    haar_dropdown.change(change_haar, inputs=[haar_dropdown], outputs=[])\n",
    "\n",
    "demo.launch(server_port=8082)\n",
    "# detect_face(\"250327_Open_CV/test1.jpg\")"
   ]
  }
 ],
 "metadata": {
  "kernelspec": {
   "display_name": ".venv",
   "language": "python",
   "name": "python3"
  },
  "language_info": {
   "codemirror_mode": {
    "name": "ipython",
    "version": 3
   },
   "file_extension": ".py",
   "mimetype": "text/x-python",
   "name": "python",
   "nbconvert_exporter": "python",
   "pygments_lexer": "ipython3",
   "version": "3.12.9"
  }
 },
 "nbformat": 4,
 "nbformat_minor": 2
}
