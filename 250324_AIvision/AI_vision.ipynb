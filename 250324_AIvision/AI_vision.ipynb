{
 "cells": [
  {
   "cell_type": "markdown",
   "metadata": {},
   "source": [
    "## Azure의 Computer Vision 활용"
   ]
  },
  {
   "cell_type": "code",
   "execution_count": 1,
   "metadata": {},
   "outputs": [],
   "source": [
    "import gradio as gr\n",
    "import requests\n",
    "from PIL import Image, ImageDraw, ImageFont\n",
    "import random\n",
    "import platform\n",
    "import os\n",
    "from dotenv import load_dotenv\n",
    "\n",
    "# .env 파일 로드\n",
    "load_dotenv()\n",
    "\n",
    "# 환경 변수 가져오기\n",
    "ENDPOINT = os.getenv(\"ENDPOINT\")\n",
    "API_KEY = os.getenv(\"API_KEY\")"
   ]
  },
  {
   "cell_type": "markdown",
   "metadata": {},
   "source": [
    "#### Caption 연동 테스트"
   ]
  },
  {
   "cell_type": "code",
   "execution_count": 2,
   "metadata": {},
   "outputs": [
    {
     "name": "stdout",
     "output_type": "stream",
     "text": [
      "{\"modelVersion\":\"2023-10-01\",\"captionResult\":{\"text\":\"a woman in a white sweater and hat\",\"confidence\":0.7546942830085754},\"metadata\":{\"width\":542,\"height\":512}}\n"
     ]
    },
    {
     "data": {
      "text/plain": [
       "{'modelVersion': '2023-10-01',\n",
       " 'captionResult': {'text': 'a woman in a white sweater and hat',\n",
       "  'confidence': 0.7546942830085754},\n",
       " 'metadata': {'width': 542, 'height': 512}}"
      ]
     },
     "execution_count": 2,
     "metadata": {},
     "output_type": "execute_result"
    }
   ],
   "source": [
    "FEATURES = \"caption\"\n",
    "\n",
    "def request_vision(features, image_path):\n",
    "    endpoint = f\"{ENDPOINT}computervision/imageanalysis:analyze?api-version=2024-02-01&features={features}\"\n",
    "\n",
    "    headers = {\n",
    "        \"Ocp-Apim-Subscription-Key\":API_KEY,\n",
    "        \"Content-Type\":\"application/octet-stream\"\n",
    "    }\n",
    "\n",
    "    with open(image_path, \"rb\") as image_file:\n",
    "        image_data = image_file.read()\n",
    "\n",
    "    response = requests.post(endpoint, headers=headers, data=image_data)\n",
    "    print(response.text)\n",
    "    if response.status_code == 200:\n",
    "        return response.json()\n",
    "    else:\n",
    "        return {}\n",
    "\n",
    "request_vision(FEATURES, \"C:/Users/jooeu/Desktop/git/ms-ai-school/250324_AIVision/test2.jpg\")"
   ]
  },
  {
   "cell_type": "markdown",
   "metadata": {},
   "source": [
    "#### Caption을 활용해서 이미지 크롭하기\n",
    "computer vision의 caption을 활용하여 이미지를 크롭하는 gradio 페이지 만들기"
   ]
  },
  {
   "cell_type": "code",
   "execution_count": 3,
   "metadata": {},
   "outputs": [
    {
     "name": "stderr",
     "output_type": "stream",
     "text": [
      "c:\\Users\\jooeu\\anaconda3\\envs\\ms-ai\\Lib\\site-packages\\gradio\\utils.py:1024: UserWarning: Expected 2 arguments for function <function change_language at 0x0000027E1BD4CEA0>, received 1.\n",
      "  warnings.warn(\n",
      "c:\\Users\\jooeu\\anaconda3\\envs\\ms-ai\\Lib\\site-packages\\gradio\\utils.py:1028: UserWarning: Expected at least 2 arguments for function <function change_language at 0x0000027E1BD4CEA0>, received 1.\n",
      "  warnings.warn(\n"
     ]
    },
    {
     "name": "stdout",
     "output_type": "stream",
     "text": [
      "* Running on local URL:  http://127.0.0.1:7860\n",
      "\n",
      "To create a public link, set `share=True` in `launch()`.\n"
     ]
    },
    {
     "data": {
      "text/html": [
       "<div><iframe src=\"http://127.0.0.1:7860/\" width=\"100%\" height=\"500\" allow=\"autoplay; camera; microphone; clipboard-read; clipboard-write;\" frameborder=\"0\" allowfullscreen></iframe></div>"
      ],
      "text/plain": [
       "<IPython.core.display.HTML object>"
      ]
     },
     "metadata": {},
     "output_type": "display_data"
    },
    {
     "data": {
      "text/plain": []
     },
     "execution_count": 3,
     "metadata": {},
     "output_type": "execute_result"
    }
   ],
   "source": [
    "FEATURES = ['read', 'smartCrops', 'tags', 'people', 'caption', 'denseCaptions', 'objects']\n",
    "\n",
    "def request_vision(features, image_path, language, smart_crops=\"\"):\n",
    "    endpoint = f\"{ENDPOINT}computervision/imageanalysis:analyze\"\n",
    "\n",
    "    query_params = {\n",
    "        \"api-version\":\"2024-02-01\",\n",
    "        \"features\":\",\".join(features),\n",
    "        \"language\":language\n",
    "    }\n",
    "    \n",
    "    if \"smartCrops\" in features:\n",
    "        query_params.update({\n",
    "            \"smartcrops-aspect-ratios\":smart_crops\n",
    "        })\n",
    "\n",
    "    headers = {\n",
    "        \"Ocp-Apim-Subscription-Key\":API_KEY,\n",
    "        \"Content-Type\":\"application/octet-stream\"\n",
    "    }\n",
    "\n",
    "    with open(image_path, \"rb\") as image_file:\n",
    "        image_data = image_file.read()\n",
    "\n",
    "    response = requests.post(endpoint, params=query_params, headers=headers, data=image_data)\n",
    "    print(response.text)\n",
    "    if response.status_code == 200:\n",
    "        return response.json()\n",
    "    else:\n",
    "        return {}\n",
    "\n",
    "def random_color():\n",
    "    return (random.randint(0, 255), random.randint(0, 255), random.randint(0, 255))\n",
    "\n",
    "def get_font():\n",
    "    font_size = 50\n",
    "    if platform.system() == \"Darwin\":\n",
    "        font = ImageFont.truetype(\"AppleGothic.ttf\", size=font_size)\n",
    "    elif platform.system() == \"Windows\":\n",
    "        font = ImageFont.truetype(\"malgun.ttf\", size=font_size)\n",
    "    else:\n",
    "        font = ImageFont.load_default(size=font_size)\n",
    "    \n",
    "    return font\n",
    "\n",
    "def draw_image(image_path, features, response_json):\n",
    "    image = Image.open(image_path)\n",
    "    draw = ImageDraw.Draw(image)\n",
    "    font = get_font()\n",
    "\n",
    "    for feature in features:\n",
    "        result_object = response_json['{}Result'.format(feature)]\n",
    "        color = random_color()\n",
    "\n",
    "        if \"values\" in result_object.keys():\n",
    "            block_list = result_object['values']\n",
    "            for block in block_list:\n",
    "                bounding_box = block.get('boundingBox', None)\n",
    "                confidence = block.get('confidence', 1)\n",
    "                if bounding_box and confidence > 0.80:\n",
    "                    x, y, w, h = bounding_box['x'], bounding_box['y'], bounding_box['w'], bounding_box['h']\n",
    "                    draw.rectangle([(x, y), (x+w, y+h)], outline=color, width=5)\n",
    "                    draw.text((x+10, y+10), text=feature, fill=color, font=font)\n",
    "\n",
    "    return image\n",
    "\n",
    "def change_image(image_path, features, language, smart_crops):\n",
    "    if image_path:\n",
    "        response_json = request_vision(features, image_path, language, smart_crops)\n",
    "        image = draw_image(image_path, features, response_json)\n",
    "        return image, response_json\n",
    "    else:\n",
    "        return None, None\n",
    "    \n",
    "def change_features(features):\n",
    "    print(features)\n",
    "    if \"smartCrops\" in features:\n",
    "        return features, gr.update(visible=True)\n",
    "    else:\n",
    "        return features, gr.update(visible=False)\n",
    "\n",
    "def change_language(language, features):\n",
    "    print(language)\n",
    "    value = list(set(FEATURES[:4]) & set(features))\n",
    "    # ko를 클릭하게 되면, people까지 클릭됨. choices로 받아서 value에 저장\n",
    "    if \"ko\" == language:\n",
    "        return language, gr.update(choices=FEATURES[:4], value=value)\n",
    "    else:\n",
    "        return language, gr.update(choices=FEATURES, value=value)\n",
    "\n",
    "with gr.Blocks() as demo:\n",
    "\n",
    "    with gr.Column():\n",
    "        language_radio = gr.Radio(label=\"언어 선택\", choices=['en', 'ko'], value='en')\n",
    "        features_checkbox = gr.CheckboxGroup(label=\"Features\", choices=FEATURES)\n",
    "        smart_crops_textbox = gr.Textbox(label=\"Smart Crops\", visible=False)\n",
    "\n",
    "    with gr.Column():\n",
    "        input_image = gr.Image(label=\"입력 이미지\", type=\"filepath\", height=400)\n",
    "        send_button = gr.Button(\"전송\")\n",
    "\n",
    "    with gr.Row():\n",
    "        output_image = gr.Image(label=\"출력 이미지\", type='pil', interactive=False)\n",
    "        output_json = gr.JSON(label=\"결과 JSON\")\n",
    "    \n",
    "    # input_image.change(change_image, inputs=[input_image, features_checkbox, language_radio, smart_crops_textbox], outputs=[output_image, output_json])\n",
    "    send_button.click(change_image, inputs=[input_image, features_checkbox, language_radio, smart_crops_textbox], outputs=[output_image, output_json])\n",
    "    language_radio.change(change_language, inputs=[language_radio], outputs=[language_radio, features_checkbox])\n",
    "    features_checkbox.change(change_features, inputs=[features_checkbox], outputs=[features_checkbox, smart_crops_textbox])\n",
    "demo.launch()\n",
    "\n",
    "# request_vision(FEATURES, \"C:/Users/jooeu/Desktop/git/ms-ai-school/250324_AIVision/test2.jpg\")"
   ]
  }
 ],
 "metadata": {
  "kernelspec": {
   "display_name": "ms-ai",
   "language": "python",
   "name": "python3"
  },
  "language_info": {
   "codemirror_mode": {
    "name": "ipython",
    "version": 3
   },
   "file_extension": ".py",
   "mimetype": "text/x-python",
   "name": "python",
   "nbconvert_exporter": "python",
   "pygments_lexer": "ipython3",
   "version": "3.12.9"
  }
 },
 "nbformat": 4,
 "nbformat_minor": 2
}
