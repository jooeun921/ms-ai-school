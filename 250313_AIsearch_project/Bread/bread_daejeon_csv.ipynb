{
 "cells": [
  {
   "cell_type": "code",
   "execution_count": 7,
   "metadata": {},
   "outputs": [
    {
     "name": "stdout",
     "output_type": "stream",
     "text": [
      "새 CSV 파일이 생성되었습니다.\n"
     ]
    }
   ],
   "source": [
    "import pandas as pd\n",
    "\n",
    "# 첫 번째 CSV 파일 읽기 (인코딩을 적절히 지정)\n",
    "first_csv = pd.read_csv('C:/Users/jooeu/Desktop/git/ms-ai-school/0313_OpenAI_AIsearch_project_Pokemon/대전광역시 중구_제과점_20241126.csv')\n",
    "\n",
    "# 두 번째 CSV 파일 읽기 (인코딩을 적절히 지정)\n",
    "second_csv = pd.read_csv('C:/Users/jooeu/Desktop/git/ms-ai-school/0313_OpenAI_AIsearch_project_Pokemon/대전광역시 서구_제과점 현황_20241025.csv')\n",
    "\n",
    "# 첫 번째 파일에서 필요한 컬럼만 추출\n",
    "first_data = first_csv[['업소명', '소재지(도로명)', '소재지전화']]\n",
    "\n",
    "# 두 번째 파일에서 필요한 컬럼만 추출\n",
    "second_data = second_csv[['업소명', '도로명주소', '전화번호']]\n",
    "\n",
    "# 첫 번째와 두 번째 데이터를 합칠 때, 업소명을 기준으로 합침\n",
    "# 첫 번째 파일에서 업소명, 소재지(도로명), 소재지전화 컬럼\n",
    "first_data['소재지'] = first_data['소재지(도로명)']  # 새로운 컬럼 생성\n",
    "first_data['전화번호'] = first_data['소재지전화']  # 새로운 컬럼 생성\n",
    "\n",
    "# 두 번째 파일에서 도로명주소와 전화번호 컬럼\n",
    "second_data = second_data[['업소명', '도로명주소', '전화번호']]\n",
    "\n",
    "# 도로명주소를 소재지 컬럼으로 변경\n",
    "second_data['소재지'] = second_data['도로명주소']  # 새로운 컬럼 생성\n",
    "\n",
    "# 이제 첫 번째 파일과 두 번째 파일을 결합 (업소명, 소재지, 전화번호만)\n",
    "final_data = pd.concat([first_data[['업소명', '소재지', '전화번호']], \n",
    "                        second_data[['업소명', '소재지', '전화번호']]], \n",
    "                       ignore_index=True)\n",
    "\n",
    "# 결과를 새로운 CSV 파일로 저장\n",
    "final_data.to_csv('merged_file.csv', index=False)\n",
    "\n",
    "print(\"새 CSV 파일이 생성되었습니다.\")\n"
   ]
  }
 ],
 "metadata": {
  "kernelspec": {
   "display_name": "ms-ai",
   "language": "python",
   "name": "python3"
  },
  "language_info": {
   "codemirror_mode": {
    "name": "ipython",
    "version": 3
   },
   "file_extension": ".py",
   "mimetype": "text/x-python",
   "name": "python",
   "nbconvert_exporter": "python",
   "pygments_lexer": "ipython3",
   "version": "3.12.9"
  }
 },
 "nbformat": 4,
 "nbformat_minor": 2
}
